{
 "cells": [
  {
   "cell_type": "markdown",
   "metadata": {},
   "source": [
    "# 프로젝트: ResNet Ablation Study"
   ]
  },
  {
   "cell_type": "markdown",
   "metadata": {},
   "source": [
    "## 1) ResNet 기본 블록 구성하기"
   ]
  },
  {
   "cell_type": "markdown",
   "metadata": {},
   "source": [
    "![resnetstruc](../image/deeper2ex_resnet.png)"
   ]
  },
  {
   "cell_type": "code",
   "execution_count": 1,
   "metadata": {},
   "outputs": [],
   "source": [
    "import tensorflow as tf\n",
    "from tensorflow import keras\n",
    "\n",
    "import numpy as np\n",
    "import matplotlib.pyplot as plt\n",
    "import tensorflow_datasets as tfds\n",
    "from tensorflow.keras import layers"
   ]
  },
  {
   "cell_type": "code",
   "execution_count": 2,
   "metadata": {},
   "outputs": [],
   "source": [
    "def normalize_and_resize_img(image, label):\n",
    "    \"\"\"Normalizes images: `uint8` -> `float32`.\"\"\"\n",
    "    # image = tf.image.resize(image, [32, 32])\n",
    "    return tf.cast(image, tf.float32) / 255., label"
   ]
  },
  {
   "cell_type": "code",
   "execution_count": 3,
   "metadata": {},
   "outputs": [],
   "source": [
    "def apply_normalize_on_dataset(ds, is_test=False, batch_size=16):\n",
    "    ds = ds.map(\n",
    "        normalize_and_resize_img, \n",
    "        num_parallel_calls=1\n",
    "    )\n",
    "    ds = ds.batch(batch_size)\n",
    "    if not is_test:\n",
    "        ds = ds.repeat()\n",
    "        ds = ds.shuffle(200)\n",
    "    ds = ds.prefetch(tf.data.experimental.AUTOTUNE)\n",
    "    return ds"
   ]
  },
  {
   "cell_type": "code",
   "execution_count": 4,
   "metadata": {},
   "outputs": [],
   "source": [
    "import urllib3\n",
    "urllib3.disable_warnings()\n",
    "\n",
    "ds_train, ds_info = tfds.load(\n",
    "    'cifar10',\n",
    "    split='train[:1%]',\n",
    "    as_supervised=True,\n",
    "    shuffle_files=True,\n",
    "    with_info=True,\n",
    ")\n"
   ]
  },
  {
   "cell_type": "code",
   "execution_count": 5,
   "metadata": {},
   "outputs": [
    {
     "name": "stdout",
     "output_type": "stream",
     "text": [
      "FeaturesDict({\n",
      "    'id': Text(shape=(), dtype=tf.string),\n",
      "    'image': Image(shape=(32, 32, 3), dtype=tf.uint8),\n",
      "    'label': ClassLabel(shape=(), dtype=tf.int64, num_classes=10),\n",
      "})\n"
     ]
    }
   ],
   "source": [
    "print(ds_info.features)"
   ]
  },
  {
   "cell_type": "code",
   "execution_count": 6,
   "metadata": {},
   "outputs": [
    {
     "name": "stdout",
     "output_type": "stream",
     "text": [
      "tf.Tensor(500, shape=(), dtype=int64)\n"
     ]
    }
   ],
   "source": [
    "# 데이터의 개수도 확인해 봅시다. \n",
    "print(tf.data.experimental.cardinality(ds_train))"
   ]
  },
  {
   "cell_type": "code",
   "execution_count": 7,
   "metadata": {},
   "outputs": [],
   "source": [
    "# ds_train = apply_normalize_on_dataset(ds_train, batch_size=100)"
   ]
  },
  {
   "cell_type": "markdown",
   "metadata": {},
   "source": [
    "## 2) ResNet-34, ResNet-50 Complete Model"
   ]
  },
  {
   "cell_type": "markdown",
   "metadata": {},
   "source": [
    "ResNet-34  \n",
    "VGG와 같이 블록을 만드는 함수를 사용해서 직접 전체 모델을 만들어 봅시다.  \n",
    "ResNet-34와 ResNet-50의 차이에 따라 달라지는 구성(configuration)을 함수에 전달해서  \n",
    "같은 생성 함수 build_resnet()를 통해서 ResNet의 여러가지 버전들을 모두 만들어 낼 수 있도록 해야 합니다."
   ]
  },
  {
   "cell_type": "code",
   "execution_count": 8,
   "metadata": {},
   "outputs": [],
   "source": [
    "cha = [31,12]"
   ]
  },
  {
   "cell_type": "code",
   "execution_count": 9,
   "metadata": {},
   "outputs": [
    {
     "data": {
      "text/plain": [
       "12"
      ]
     },
     "execution_count": 9,
     "metadata": {},
     "output_type": "execute_result"
    }
   ],
   "source": [
    "cha[1]"
   ]
  },
  {
   "cell_type": "code",
   "execution_count": 10,
   "metadata": {},
   "outputs": [],
   "source": [
    "# resnet블록 생성\n",
    "def build_resnet_block(input_layer=(64,64,3), kernel_size=(3,3), strides=1, filters=[64,64]):\n",
    "    # 입력 레이어\n",
    "    shortcut = x = input_layer # 64,64,3\n",
    "    #cnn1\n",
    "    print(x)\n",
    "    shortcut= x = keras.layers.Conv2D(\n",
    "        filters=filters[0],\n",
    "        kernel_size=kernel_size,\n",
    "        kernel_initializer='he_normal',\n",
    "        \n",
    "        padding='same'\n",
    "        )(x)\n",
    "    x = keras.layers.BatchNormalization()(x)\n",
    "    x = keras.layers.Activation('relu')(x)\n",
    "    #cnn2\n",
    "    x = keras.layers.Conv2D(\n",
    "        filters=filters[1],\n",
    "        kernel_size=kernel_size,\n",
    "        kernel_initializer='he_normal',\n",
    "        \n",
    "        padding='same'\n",
    "        )(x)\n",
    "    x = keras.layers.BatchNormalization()(x)\n",
    "    print(x.shape)\n",
    "    x = keras.layers.Add()([x,shortcut])\n",
    "    x = keras.layers.Activation('relu')(x)\n",
    "    \n",
    "    return x\n",
    "    \n",
    "    \n",
    "    "
   ]
  },
  {
   "cell_type": "code",
   "execution_count": 11,
   "metadata": {},
   "outputs": [],
   "source": [
    "def dot_residual(input_layer=(64,64,3), kernel_size=(3,3), strides=1, filters=[64,64]):\n",
    "    # 입력 레이어\n",
    "    shortcut = x = input_layer # 64,64,3\n",
    "    #cnn1\n",
    "    print(x)\n",
    "    shortcut= x = keras.layers.Conv2D(\n",
    "        filters=2,\n",
    "        kernel_size=kernel_size,\n",
    "        kernel_initializer='he_normal',\n",
    "        \n",
    "        padding='same'\n",
    "        )(x)\n",
    "    x = keras.layers.BatchNormalization()(x)\n",
    "    x = keras.layers.Activation('relu')(x)\n",
    "    #cnn2\n",
    "    x = keras.layers.Conv2D(\n",
    "        filters=1,\n",
    "        kernel_size=kernel_size,\n",
    "        kernel_initializer='he_normal',\n",
    "        \n",
    "        padding='same'\n",
    "        )(x)\n",
    "    x = keras.layers.BatchNormalization()(x)\n",
    "    print(x.shape)\n",
    "    shortcut = keras.layers.Conv2D(\n",
    "        filters=1,\n",
    "        kernel_size=kernel_size,\n",
    "        kernel_initializer='he_normal',\n",
    "        padding='same'\n",
    "        )(shortcut)\n",
    "    shortcut = keras.layers.BatchNormalization()(shortcut)\n",
    "            \n",
    "    x = keras.layers.Add()([x,shortcut])\n",
    "    x = keras.layers.Activation('relu')(x)\n",
    "    \n",
    "    return x"
   ]
  },
  {
   "cell_type": "code",
   "execution_count": 12,
   "metadata": {},
   "outputs": [],
   "source": [
    "input_layer = keras.layers.Input(shape=(64,64,3))"
   ]
  },
  {
   "cell_type": "code",
   "execution_count": 13,
   "metadata": {},
   "outputs": [
    {
     "name": "stdout",
     "output_type": "stream",
     "text": [
      "Tensor(\"input_1:0\", shape=(None, 64, 64, 3), dtype=float32)\n",
      "(None, 64, 64, 64)\n"
     ]
    }
   ],
   "source": [
    "build_resnet = build_resnet_block(kernel_size=(3,3), strides=1, input_layer=input_layer)"
   ]
  },
  {
   "cell_type": "code",
   "execution_count": 14,
   "metadata": {},
   "outputs": [],
   "source": [
    "model = keras.Model(inputs=input_layer, outputs=build_resnet) "
   ]
  },
  {
   "cell_type": "code",
   "execution_count": 15,
   "metadata": {},
   "outputs": [
    {
     "name": "stdout",
     "output_type": "stream",
     "text": [
      "Model: \"model\"\n",
      "__________________________________________________________________________________________________\n",
      "Layer (type)                    Output Shape         Param #     Connected to                     \n",
      "==================================================================================================\n",
      "input_1 (InputLayer)            [(None, 64, 64, 3)]  0                                            \n",
      "__________________________________________________________________________________________________\n",
      "conv2d (Conv2D)                 (None, 64, 64, 64)   1792        input_1[0][0]                    \n",
      "__________________________________________________________________________________________________\n",
      "batch_normalization (BatchNorma (None, 64, 64, 64)   256         conv2d[0][0]                     \n",
      "__________________________________________________________________________________________________\n",
      "activation (Activation)         (None, 64, 64, 64)   0           batch_normalization[0][0]        \n",
      "__________________________________________________________________________________________________\n",
      "conv2d_1 (Conv2D)               (None, 64, 64, 64)   36928       activation[0][0]                 \n",
      "__________________________________________________________________________________________________\n",
      "batch_normalization_1 (BatchNor (None, 64, 64, 64)   256         conv2d_1[0][0]                   \n",
      "__________________________________________________________________________________________________\n",
      "add (Add)                       (None, 64, 64, 64)   0           batch_normalization_1[0][0]      \n",
      "                                                                 conv2d[0][0]                     \n",
      "__________________________________________________________________________________________________\n",
      "activation_1 (Activation)       (None, 64, 64, 64)   0           add[0][0]                        \n",
      "==================================================================================================\n",
      "Total params: 39,232\n",
      "Trainable params: 38,976\n",
      "Non-trainable params: 256\n",
      "__________________________________________________________________________________________________\n"
     ]
    }
   ],
   "source": [
    "model.summary()"
   ]
  },
  {
   "cell_type": "code",
   "execution_count": 16,
   "metadata": {},
   "outputs": [],
   "source": [
    "def ResNet34(input_shape=(32,32,3),num_classes=10):\n",
    "    x = keras.layers.Input(input_shape)\n",
    "    x = keras.layers.Conv2D(64, (7,7), padding='same', strides=2, activation='relu')(x)\n",
    "    x = keras.layers.MaxPool2D((3,3), padding='same', strides=2)(x)\n",
    "    # block 1-3(with 2)\n",
    "    for i in range(3):\n",
    "        x = build_resnet_block(input_layer=x, kernel_size=(3,3), strides=1, filters = [64,64])(x)\n",
    "    return x\n",
    "    \n",
    "    # /2, block4-6\n",
    "    x = dot_residual(input_layer=(64,64,3), kernel_size=(3,3), strides=1, filters=[128,128])(x)\n",
    "    for i in range(3):\n",
    "        x = build_resnet_block(input_layer=x, kernel_size=(3,3), strides=1, filters = [128,128])(x)\n",
    "    return x\n",
    "\n",
    "    x = dot_residual(input_layer=(64,64,3), kernel_size=(3,3), strides=1, filters=[256,256])(x)\n",
    "    for i in range(3):\n",
    "        x = build_resnet_block(input_layer=x, kernel_size=(3,3), strides=1, filters = [256,256])(x)\n",
    "    return x\n",
    "\n",
    "    x = dot_residual(input_layer=(64,64,3), kernel_size=(3,3), strides=1, filters=[512,512])(x)\n",
    "    \n",
    "    for i in range(2):\n",
    "        x = build_resnet_block(input_layer=x, kernel_size=(3,3), strides=1, filters = [512,512])(x)\n",
    "    x = keras.layers.AveragePooling2D()(x)\n",
    "    x = keras.layers.Flatten()\n",
    "    x = keras.layers.Dense(num_classes, activation='softmax')(x)\n",
    "    \n",
    "    \n",
    "    \n",
    "    "
   ]
  },
  {
   "cell_type": "code",
   "execution_count": 17,
   "metadata": {},
   "outputs": [
    {
     "name": "stdout",
     "output_type": "stream",
     "text": [
      "Tensor(\"max_pooling2d/Identity:0\", shape=(None, 8, 8, 64), dtype=float32)\n",
      "(None, 8, 8, 64)\n"
     ]
    },
    {
     "ename": "TypeError",
     "evalue": "'Tensor' object is not callable",
     "output_type": "error",
     "traceback": [
      "\u001b[0;31m---------------------------------------------------------------------------\u001b[0m",
      "\u001b[0;31mTypeError\u001b[0m                                 Traceback (most recent call last)",
      "\u001b[0;32m<ipython-input-17-955acdf60c29>\u001b[0m in \u001b[0;36m<module>\u001b[0;34m\u001b[0m\n\u001b[0;32m----> 1\u001b[0;31m \u001b[0mRes\u001b[0m \u001b[0;34m=\u001b[0m \u001b[0mResNet34\u001b[0m\u001b[0;34m(\u001b[0m\u001b[0;34m)\u001b[0m\u001b[0;34m\u001b[0m\u001b[0;34m\u001b[0m\u001b[0m\n\u001b[0m",
      "\u001b[0;32m<ipython-input-16-c0cf4e82d098>\u001b[0m in \u001b[0;36mResNet34\u001b[0;34m(input_shape, num_classes)\u001b[0m\n\u001b[1;32m      5\u001b[0m     \u001b[0;31m# block 1-3(with 2)\u001b[0m\u001b[0;34m\u001b[0m\u001b[0;34m\u001b[0m\u001b[0;34m\u001b[0m\u001b[0m\n\u001b[1;32m      6\u001b[0m     \u001b[0;32mfor\u001b[0m \u001b[0mi\u001b[0m \u001b[0;32min\u001b[0m \u001b[0mrange\u001b[0m\u001b[0;34m(\u001b[0m\u001b[0;36m3\u001b[0m\u001b[0;34m)\u001b[0m\u001b[0;34m:\u001b[0m\u001b[0;34m\u001b[0m\u001b[0;34m\u001b[0m\u001b[0m\n\u001b[0;32m----> 7\u001b[0;31m         \u001b[0mx\u001b[0m \u001b[0;34m=\u001b[0m \u001b[0mbuild_resnet_block\u001b[0m\u001b[0;34m(\u001b[0m\u001b[0minput_layer\u001b[0m\u001b[0;34m=\u001b[0m\u001b[0mx\u001b[0m\u001b[0;34m,\u001b[0m \u001b[0mkernel_size\u001b[0m\u001b[0;34m=\u001b[0m\u001b[0;34m(\u001b[0m\u001b[0;36m3\u001b[0m\u001b[0;34m,\u001b[0m\u001b[0;36m3\u001b[0m\u001b[0;34m)\u001b[0m\u001b[0;34m,\u001b[0m \u001b[0mstrides\u001b[0m\u001b[0;34m=\u001b[0m\u001b[0;36m1\u001b[0m\u001b[0;34m,\u001b[0m \u001b[0mfilters\u001b[0m \u001b[0;34m=\u001b[0m \u001b[0;34m[\u001b[0m\u001b[0;36m64\u001b[0m\u001b[0;34m,\u001b[0m\u001b[0;36m64\u001b[0m\u001b[0;34m]\u001b[0m\u001b[0;34m)\u001b[0m\u001b[0;34m(\u001b[0m\u001b[0mx\u001b[0m\u001b[0;34m)\u001b[0m\u001b[0;34m\u001b[0m\u001b[0;34m\u001b[0m\u001b[0m\n\u001b[0m\u001b[1;32m      8\u001b[0m     \u001b[0;32mreturn\u001b[0m \u001b[0mx\u001b[0m\u001b[0;34m\u001b[0m\u001b[0;34m\u001b[0m\u001b[0m\n\u001b[1;32m      9\u001b[0m \u001b[0;34m\u001b[0m\u001b[0m\n",
      "\u001b[0;31mTypeError\u001b[0m: 'Tensor' object is not callable"
     ]
    }
   ],
   "source": [
    "Res = ResNet34()"
   ]
  },
  {
   "cell_type": "code",
   "execution_count": null,
   "metadata": {},
   "outputs": [],
   "source": [
    "model1 = keras.Model(inputs=input_layer, outputs=Res) "
   ]
  },
  {
   "cell_type": "code",
   "execution_count": null,
   "metadata": {},
   "outputs": [],
   "source": [
    "def bottleneck(input_layer=(64,64,3), kernel_size=(3,3), strides=1, filters=[64,64,256]):\n",
    "    # 입력 레이어\n",
    "    shortcut= x = input_layer # 64,64,3\n",
    "    # 1*1\n",
    "    x = keras.layers.Conv2D(\n",
    "        filters=filters[0],\n",
    "        kernel_size=kernel_size,\n",
    "        kernel_initializer='he_normal',\n",
    "        padding='same'\n",
    "        )(x)\n",
    "    x = keras.layers.BatchNormalization()(x)\n",
    "    x = keras.layers.Activation('relu')(x)\n",
    "    # filter \n",
    "    x = keras.layers.Conv2D(\n",
    "        filters=filters[1],\n",
    "        kernel_size=kernel_size,\n",
    "        kernel_initializer='he_normal',\n",
    "        padding='same'\n",
    "        )(x)\n",
    "    x = keras.layers.BatchNormalization()(x)\n",
    "    x = keras.layers.Activation('relu')(x)\n",
    "    # 1*1\n",
    "    x = keras.layers.Conv2D(\n",
    "        filters=filters[2],\n",
    "        kernel_size=kernel_size,\n",
    "        kernel_initializer='he_normal',\n",
    "        padding='same'\n",
    "        )(x)\n",
    "    # skip\n",
    "    shortcut = keras.layers.Conv2D(\n",
    "        filters=1,\n",
    "        kernel_size=kernel_size,\n",
    "        kernel_initializer='he_normal',\n",
    "        padding='same'\n",
    "        )(shortcut)\n",
    "    shortcut = keras.layers.BatchNormalization()(shortcut)\n",
    "            \n",
    "    x = keras.layers.Add()([x,shortcut])\n",
    "    x = keras.layers.Activation('relu')(x)\n",
    "    \n",
    "    return x"
   ]
  },
  {
   "cell_type": "code",
   "execution_count": null,
   "metadata": {},
   "outputs": [],
   "source": [
    "def resnet50(input_shape=(32,32,3),num_classes=10):\n",
    "    x = keras.layers.Input(input_shape)\n",
    "    x = keras.layers.Conv2D(64, (7,7), padding='same', strides=2, activation='relu')(x)\n",
    "    x = keras.layers.MaxPool2D((3,3), padding='same', strides=2)(x)\n",
    "    \n",
    "    for i in range(3):\n",
    "        bottleneck(input_layer= x, kernel_size=(3,3), strides=1, filters=[64,64,256])(x)\n",
    "    return x\n",
    "\n",
    "    x = keras.layers.Conv2D(128 ,(3,3), padding='same', strides=2, activation='relu')(x)\n",
    "    x = keras.layers.Conv2D(128 ,(3,3), padding='same', strides=1, activation='relu')(x)\n",
    "    for i in range(3):\n",
    "        bottleneck(input_layer= x, kernel_size=(3,3), strides=1, filters=[256,256,1024])(x)\n",
    "    return x\n",
    "        \n",
    "    \n",
    "\n",
    "    "
   ]
  },
  {
   "cell_type": "code",
   "execution_count": null,
   "metadata": {},
   "outputs": [],
   "source": []
  }
 ],
 "metadata": {
  "kernelspec": {
   "display_name": "Python 3",
   "language": "python",
   "name": "python3"
  },
  "language_info": {
   "codemirror_mode": {
    "name": "ipython",
    "version": 3
   },
   "file_extension": ".py",
   "mimetype": "text/x-python",
   "name": "python",
   "nbconvert_exporter": "python",
   "pygments_lexer": "ipython3",
   "version": "3.7.9"
  }
 },
 "nbformat": 4,
 "nbformat_minor": 4
}
